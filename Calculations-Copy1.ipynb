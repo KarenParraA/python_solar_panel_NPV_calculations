{
 "cells": [
  {
   "cell_type": "markdown",
   "id": "d510fe1f-a751-4406-8d2d-cd64627027d2",
   "metadata": {},
   "source": [
    "## Setting the variables\n",
    "In this section we are going to define the variables like: \n",
    "- Implementation cost\n",
    "- Inflation rate\n",
    "- Discount rate\n",
    "- Energy cost\n",
    "- Annual production\n",
    "- Annual perfomance reduction\n",
    "- Lifetime \n",
    "- Annual consumption "
   ]
  },
  {
   "cell_type": "code",
   "execution_count": 31,
   "id": "c9ba074a-b186-4435-9ceb-4109849be634",
   "metadata": {},
   "outputs": [],
   "source": [
    "inflation_rates = (0.5,1.5)\n",
    "discount_rates = (6.38,8.38)\n",
    "energy_cost = 0.1031\n",
    "annual_productions = 2453\n",
    "years = (1,25)\n",
    "annual_consumption = 2100\n",
    "implementation_costs = 1.2*annual_consumption"
   ]
  },
  {
   "cell_type": "code",
   "execution_count": 15,
   "id": "1230c3db-2929-4baa-a90c-a5ebbfc3e039",
   "metadata": {},
   "outputs": [
    {
     "name": "stdin",
     "output_type": "stream",
     "text": [
      "Write the number of iterations needed:  30\n"
     ]
    }
   ],
   "source": [
    "experiments_iterations=int(input(\"Write the number of iterations needed: \"))"
   ]
  },
  {
   "cell_type": "code",
   "execution_count": 35,
   "id": "2e385875-3367-4f7d-b4d3-f760609ae987",
   "metadata": {},
   "outputs": [
    {
     "name": "stdout",
     "output_type": "stream",
     "text": [
      "[270.076369009711, 1769.3602499951867, 95.16255503173124, 2550.9882179098404, 912.6893028232062, 1261.590191053257, 1739.1880858411532, 354.9322002875606, 438.32514102525283, 386.54037292164185, 827.690527280764, 1181.2410571837127, 822.4880621161997, 1379.7127370768071, 2159.803030907592, 1340.87698769622, 1272.4764568716346, 959.2683331104445, 564.4577943596187, 1314.8803876175452, 1150.5872117580798, 2084.5269100020605, 1371.6425283189733, 2776.759355517749, 1877.8048523892458, 2246.8866479438093, 505.269936882873, 2684.6306443068597, 2071.0634989910814, 869.5461734046175] [9, 9, 8, 7, 6, 8, 6, 5, 11, 6, 10, 8, 11, 8, 7, 6, 8, 10, 5, 7, 6, 6, 8, 6, 7, 7, 9, 6, 6, 6]\n",
      "max_year_to_zero: 11 Minimum year to zero: 5\n"
     ]
    }
   ],
   "source": [
    "import random\n",
    "list_NPV=[]\n",
    "list_year_to_zero=[]\n",
    "for i in range(experiments_iterations):\n",
    "    inflation_rate=inflation_rates[0]+(inflation_rates[-1]-inflation_rates[0])*random.random()\n",
    "    discount_rate=discount_rates[0]+(discount_rates[-1]-discount_rates[0])*random.random()\n",
    "    NPV=0\n",
    "    year_to_zero=0\n",
    "    for year in range(years[0],years[1]):\n",
    "        NPV = (annual_consumption*energy_cost*(1+inflation_rate)**year)*((1/discount_rate)*(1-(1/(1+discount_rate)**year)))-implementation_costs\n",
    "        #print(i,year,NPV)\n",
    "        if NPV>=0:\n",
    "            year_to_zero=year\n",
    "            break\n",
    "    list_NPV.append(NPV)\n",
    "    list_year_to_zero.append(year_to_zero)\n",
    "print(list_NPV,list_year_to_zero)\n",
    "max_year_to_zero=max(list_year_to_zero)\n",
    "min_year_to_zero=min(list_year_to_zero)\n",
    "print(f\"max_year_to_zero: {max_year_to_zero} Minimum year to zero: {min_year_to_zero}\")\n"
   ]
  },
  {
   "cell_type": "code",
   "execution_count": null,
   "id": "f4b99589-01c9-4e1b-bbda-e325fab61a87",
   "metadata": {},
   "outputs": [],
   "source": []
  }
 ],
 "metadata": {
  "kernelspec": {
   "display_name": "Python 3 (ipykernel)",
   "language": "python",
   "name": "python3"
  },
  "language_info": {
   "codemirror_mode": {
    "name": "ipython",
    "version": 3
   },
   "file_extension": ".py",
   "mimetype": "text/x-python",
   "name": "python",
   "nbconvert_exporter": "python",
   "pygments_lexer": "ipython3",
   "version": "3.10.0"
  }
 },
 "nbformat": 4,
 "nbformat_minor": 5
}

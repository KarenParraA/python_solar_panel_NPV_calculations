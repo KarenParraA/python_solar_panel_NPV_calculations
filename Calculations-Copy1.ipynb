{
 "cells": [
  {
   "cell_type": "markdown",
   "id": "d510fe1f-a751-4406-8d2d-cd64627027d2",
   "metadata": {},
   "source": [
    "## Setting the variables\n",
    "In this section we are going to define the variables like: \n",
    "- Implementation cost\n",
    "- Inflation rate\n",
    "- Discount rate\n",
    "- Energy cost\n",
    "- Annual production\n",
    "- Annual perfomance reduction\n",
    "- Lifetime \n",
    "- Annual consumption "
   ]
  },
  {
   "cell_type": "code",
   "execution_count": 31,
   "id": "c9ba074a-b186-4435-9ceb-4109849be634",
   "metadata": {},
   "outputs": [],
   "source": [
    "inflation_rates = (0.5,1.5)\n",
    "discount_rates = (6.38,8.38)\n",
    "energy_cost = 0.1031\n",
    "annual_productions = 2453\n",
    "years = (1,25)\n",
    "annual_consumption = 2100\n",
    "implementation_costs = 1.2*annual_consumption"
   ]
  },
  {
   "cell_type": "code",
   "execution_count": 15,
   "id": "1230c3db-2929-4baa-a90c-a5ebbfc3e039",
   "metadata": {},
   "outputs": [
    {
     "name": "stdin",
     "output_type": "stream",
     "text": [
      "Write the number of iterations needed:  30\n"
     ]
    }
   ],
   "source": [
    "experiments_iterations=int(input(\"Write the number of iterations needed: \"))"
   ]
  },
  {
   "cell_type": "code",
   "execution_count": null,
   "id": "cf3bf47b-b983-40ae-9ae1-0873a5a2d5c3",
   "metadata": {},
   "outputs": [],
   "source": []
  },
  {
   "cell_type": "code",
   "execution_count": 53,
   "id": "2e385875-3367-4f7d-b4d3-f760609ae987",
   "metadata": {},
   "outputs": [
    {
     "name": "stdout",
     "output_type": "stream",
     "text": [
      "============================================================================================================================================\n",
      "Program to calculate the year in which the NPV value for a solar system installation is zero, developed by Karen Parra\n",
      "Fixed values:\n",
      " Energy cost: 0.1031\n",
      " Annual production: 2453\n",
      " Annual consumption: 2100\n",
      " Implementation cost: 2520.0\n",
      "Dinamic values used:\n",
      " Inflation rates: (0.5, 1.5)\n",
      " Tax discount rates: (6.38, 8.38)\n",
      "Years of study: (1, 25)\n",
      "Maximum year to zero: 11 Inflation rate: 0.546497636206818 Discount rate: 7.576938637758066 \n",
      "Minimum year to zero: 5 Inflation rate: 1.485748808552089 Discount rate: 7.852017617667033 \n",
      "============================================================================================================================================\n"
     ]
    }
   ],
   "source": [
    "import random\n",
    "list_NPV=[]\n",
    "list_year_to_zero=[]\n",
    "list_values_NPV=[]\n",
    "for i in range(experiments_iterations):\n",
    "    inflation_rate=inflation_rates[0]+(inflation_rates[-1]-inflation_rates[0])*random.random()\n",
    "    discount_rate=discount_rates[0]+(discount_rates[-1]-discount_rates[0])*random.random()\n",
    "    NPV=0\n",
    "    year_to_zero=0\n",
    "    for year in range(years[0],years[1]):\n",
    "        NPV = (annual_consumption*energy_cost*(1+inflation_rate)**year)*((1/discount_rate)*(1-(1/(1+discount_rate)**year)))-implementation_costs\n",
    "        #print(i,year,NPV)\n",
    "        if NPV>=0:\n",
    "            year_to_zero=year\n",
    "            break\n",
    "    list_NPV.append(NPV)\n",
    "    list_year_to_zero.append(year_to_zero)\n",
    "    dictionary_values={\"inflation_rate\":inflation_rate,\"discount_rate\":discount_rate}\n",
    "    list_values_NPV.append(dictionary_values)\n",
    "#print(list_NPV,list_year_to_zero)\n",
    "max_year_to_zero=max(list_year_to_zero)\n",
    "max_year_to_zero_ID=list_year_to_zero.index(max_year_to_zero)\n",
    "min_year_to_zero=min(list_year_to_zero)\n",
    "min_year_to_zero_ID=list_year_to_zero.index(min_year_to_zero)\n",
    "max_values_NPV=list_values_NPV[max_year_to_zero_ID]\n",
    "min_values_NPV=list_values_NPV[min_year_to_zero_ID]\n",
    "print(140*\"=\")\n",
    "print(\"Program to calculate the year in which the NPV value for a solar system installation is zero, developed by Karen Parra\")\n",
    "print(\"Fixed values:\")\n",
    "print(f\" Energy cost: {energy_cost}\")\n",
    "print(f\" Annual production: {annual_productions}\")\n",
    "print(f\" Annual consumption: {annual_consumption}\")\n",
    "print(f\" Implementation cost: {implementation_costs}\")\n",
    "print(\"Dinamic values used:\")\n",
    "print(f\" Inflation rates: {inflation_rates}\")\n",
    "print(f\" Tax discount rates: {discount_rates}\")\n",
    "print(f\"Years of study: {years}\")\n",
    "print(f\"Maximum year to zero: {max_year_to_zero} Inflation rate: {max_values_NPV['inflation_rate']} Discount rate: {max_values_NPV['discount_rate']} \")\n",
    "print(f\"Minimum year to zero: {min_year_to_zero} Inflation rate: {min_values_NPV['inflation_rate']} Discount rate: {min_values_NPV['discount_rate']} \")\n",
    "print(140*\"=\")"
   ]
  },
  {
   "cell_type": "code",
   "execution_count": null,
   "id": "9ca912fa-ba7a-4d63-8c18-57d36eb28a0f",
   "metadata": {},
   "outputs": [],
   "source": []
  }
 ],
 "metadata": {
  "kernelspec": {
   "display_name": "Python 3 (ipykernel)",
   "language": "python",
   "name": "python3"
  },
  "language_info": {
   "codemirror_mode": {
    "name": "ipython",
    "version": 3
   },
   "file_extension": ".py",
   "mimetype": "text/x-python",
   "name": "python",
   "nbconvert_exporter": "python",
   "pygments_lexer": "ipython3",
   "version": "3.10.0"
  }
 },
 "nbformat": 4,
 "nbformat_minor": 5
}

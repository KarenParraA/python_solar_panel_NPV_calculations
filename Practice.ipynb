{
 "cells": [
  {
   "cell_type": "markdown",
   "id": "d510fe1f-a751-4406-8d2d-cd64627027d2",
   "metadata": {},
   "source": [
    "## Setting the variables\n",
    "In this section we are going to define the variables like: \n",
    "- Implementation cost\n",
    "- Inflation rate\n",
    "- Discount rate\n",
    "- Energy cost\n",
    "- Annual production\n",
    "- Annualperfomance\n",
    "- Lifetime "
   ]
  },
  {
   "cell_type": "code",
   "execution_count": 7,
   "id": "c9ba074a-b186-4435-9ceb-4109849be634",
   "metadata": {},
   "outputs": [],
   "source": [
    "implementation_costs = (1500, 4000, 5000, 2100, 1800, 2050, 3150)"
   ]
  },
  {
   "cell_type": "code",
   "execution_count": 8,
   "id": "00ae9c80-bf20-4a10-a357-615d37fd1ed8",
   "metadata": {},
   "outputs": [
    {
     "data": {
      "text/plain": [
       "1500"
      ]
     },
     "execution_count": 8,
     "metadata": {},
     "output_type": "execute_result"
    }
   ],
   "source": [
    "implementation_costs[0]"
   ]
  },
  {
   "cell_type": "code",
   "execution_count": 9,
   "id": "c8852a73-f3b2-4fb8-b67f-922dfc203853",
   "metadata": {},
   "outputs": [
    {
     "data": {
      "text/plain": [
       "4000"
      ]
     },
     "execution_count": 9,
     "metadata": {},
     "output_type": "execute_result"
    }
   ],
   "source": [
    "implementation_costs[1]"
   ]
  },
  {
   "cell_type": "code",
   "execution_count": 14,
   "id": "b04c2b82-bd10-4b63-a846-80c6b578c60c",
   "metadata": {},
   "outputs": [
    {
     "data": {
      "text/plain": [
       "(5000, 2100, 1800, 2050, 3150)"
      ]
     },
     "execution_count": 14,
     "metadata": {},
     "output_type": "execute_result"
    }
   ],
   "source": [
    "implementation_costs[2:]"
   ]
  },
  {
   "cell_type": "code",
   "execution_count": 15,
   "id": "be080c93-7922-4347-a601-c4b50c96b66b",
   "metadata": {},
   "outputs": [
    {
     "data": {
      "text/plain": [
       "3150"
      ]
     },
     "execution_count": 15,
     "metadata": {},
     "output_type": "execute_result"
    }
   ],
   "source": [
    "implementation_costs[-1]"
   ]
  },
  {
   "cell_type": "code",
   "execution_count": 16,
   "id": "46cc5aeb-8d11-4d64-9868-bcd7dba112d7",
   "metadata": {},
   "outputs": [
    {
     "data": {
      "text/plain": [
       "7"
      ]
     },
     "execution_count": 16,
     "metadata": {},
     "output_type": "execute_result"
    }
   ],
   "source": [
    "len(implementation_costs)"
   ]
  },
  {
   "cell_type": "code",
   "execution_count": 18,
   "id": "1230c3db-2929-4baa-a90c-a5ebbfc3e039",
   "metadata": {},
   "outputs": [],
   "source": [
    "import random"
   ]
  },
  {
   "cell_type": "code",
   "execution_count": 36,
   "id": "b7e99b0d-7dc1-44a7-a604-668f01f9ffeb",
   "metadata": {},
   "outputs": [
    {
     "data": {
      "text/plain": [
       "7.734200141629984"
      ]
     },
     "execution_count": 36,
     "metadata": {},
     "output_type": "execute_result"
    }
   ],
   "source": [
    "2+8*random.random()"
   ]
  },
  {
   "cell_type": "code",
   "execution_count": 43,
   "id": "33984591-5b16-409a-b653-e4401e5d1c70",
   "metadata": {},
   "outputs": [
    {
     "name": "stdout",
     "output_type": "stream",
     "text": [
      "34\n",
      "31\n",
      "28\n",
      "25\n",
      "22\n",
      "19\n"
     ]
    }
   ],
   "source": [
    "for i in range(34,17,-3):\n",
    "    print(i)"
   ]
  },
  {
   "cell_type": "code",
   "execution_count": 52,
   "id": "ff8cd9d2-024f-48ed-91e8-b07a6c1f7f59",
   "metadata": {},
   "outputs": [
    {
     "name": "stdout",
     "output_type": "stream",
     "text": [
      "1 78.8707073408466 78\n",
      "2 74.15410688494973 74\n",
      "3 93.15905518941548 93\n",
      "4 55.486562438392546 55\n",
      "5 83.9317550854096 83\n",
      "6 81.43255799258455 81\n",
      "7 80.66582255672424 80\n",
      "8 84.07539357357123 84\n",
      "9 70.15369884374101 70\n",
      "10 61.28418890243179 61\n",
      "11 78.955084284676 78\n",
      "12 50.056997032468445 50\n",
      "13 60.27102346428784 60\n",
      "14 50.296872130302596 50\n",
      "15 66.08401079989657 66\n",
      "16 87.7397833225985 87\n",
      "17 91.0314362141603 91\n",
      "18 57.89162167615876 57\n",
      "19 81.56449223217987 81\n",
      "20 94.53013592950242 94\n",
      "21 80.0657588047932 80\n",
      "22 81.15027340843307 81\n",
      "23 56.36468929469234 56\n",
      "24 82.96590320154397 82\n",
      "25 59.00954879156265 59\n"
     ]
    }
   ],
   "source": [
    "#generar 25 numeros aleatorios, entre el 50 y el 99 \n",
    "for i in range(25):\n",
    "    numero_aleatorio=50+49*random.random()\n",
    "    print( i+1, numero_aleatorio, int(numero_aleatorio))"
   ]
  },
  {
   "cell_type": "code",
   "execution_count": 72,
   "id": "6cab859d-6aa9-48b7-a58d-7e0c9816c616",
   "metadata": {},
   "outputs": [],
   "source": [
    "lista=[7,1,6,3,5]"
   ]
  },
  {
   "cell_type": "code",
   "execution_count": 64,
   "id": "14cc2da1-2063-4336-a9f8-35ddd3545c8d",
   "metadata": {},
   "outputs": [],
   "source": [
    "lista.append(7)#this function appends an element to the end of the list"
   ]
  },
  {
   "cell_type": "code",
   "execution_count": 70,
   "id": "7331f6e2-babb-4a73-b10d-898ffc824de8",
   "metadata": {},
   "outputs": [
    {
     "data": {
      "text/plain": [
       "[1, 3, 5, 6, 7]"
      ]
     },
     "execution_count": 70,
     "metadata": {},
     "output_type": "execute_result"
    }
   ],
   "source": [
    "lista"
   ]
  },
  {
   "cell_type": "code",
   "execution_count": 57,
   "id": "908aaab7-4597-42fd-9692-2d4f7518b14c",
   "metadata": {},
   "outputs": [
    {
     "data": {
      "text/plain": [
       "7"
      ]
     },
     "execution_count": 57,
     "metadata": {},
     "output_type": "execute_result"
    }
   ],
   "source": [
    "lista.pop()#removes the elements at the final potitions"
   ]
  },
  {
   "cell_type": "code",
   "execution_count": 59,
   "id": "936cee9d-61d9-484b-a017-6e3f0b4ff64f",
   "metadata": {},
   "outputs": [
    {
     "data": {
      "text/plain": [
       "3"
      ]
     },
     "execution_count": 59,
     "metadata": {},
     "output_type": "execute_result"
    }
   ],
   "source": [
    "lista.pop(1)"
   ]
  },
  {
   "cell_type": "code",
   "execution_count": 61,
   "id": "c1f7c432-64a4-4d65-ac3d-f30ada11fb84",
   "metadata": {},
   "outputs": [],
   "source": [
    "lista.remove(5)"
   ]
  },
  {
   "cell_type": "code",
   "execution_count": 65,
   "id": "6cb5ce5e-bf6d-4123-828e-9984d30e84d9",
   "metadata": {},
   "outputs": [],
   "source": [
    "lista.clear()"
   ]
  },
  {
   "cell_type": "code",
   "execution_count": 69,
   "id": "fab17fa1-eeec-4dc0-818c-1b3fd84429fe",
   "metadata": {},
   "outputs": [],
   "source": [
    "lista.sort()"
   ]
  },
  {
   "cell_type": "code",
   "execution_count": 73,
   "id": "4b639477-a63c-4c77-8afd-ea357838f830",
   "metadata": {},
   "outputs": [
    {
     "data": {
      "text/plain": [
       "2"
      ]
     },
     "execution_count": 73,
     "metadata": {},
     "output_type": "execute_result"
    }
   ],
   "source": [
    "lista.index(6)#this returns the index of the first element with a specified value"
   ]
  },
  {
   "cell_type": "code",
   "execution_count": 74,
   "id": "815f3010-95ad-48e5-bd6b-38f6122bbe9f",
   "metadata": {},
   "outputs": [],
   "source": [
    "dictionary={\"name\":\"Karen\",\"age\":28,\"genre\":\"F\",\"hobbies\":[\"cocinar\",\"ciclear\",\"dormir\"]}"
   ]
  },
  {
   "cell_type": "code",
   "execution_count": 80,
   "id": "f83044cc-91c6-4be7-b7f9-afe04536152c",
   "metadata": {},
   "outputs": [],
   "source": [
    "dictionary[\"hobbies\"].append(\"tomar\")"
   ]
  },
  {
   "cell_type": "code",
   "execution_count": 81,
   "id": "06656c98-0fca-433b-87f1-296ee66a55f0",
   "metadata": {},
   "outputs": [
    {
     "data": {
      "text/plain": [
       "['cocinar', 'ciclear', 'dormir', 'tomar', 'tomar']"
      ]
     },
     "execution_count": 81,
     "metadata": {},
     "output_type": "execute_result"
    }
   ],
   "source": [
    "dictionary[\"hobbies\"]"
   ]
  },
  {
   "cell_type": "code",
   "execution_count": null,
   "id": "f49cb21e-9382-4f36-a78c-a5fb45a0c66d",
   "metadata": {},
   "outputs": [],
   "source": []
  }
 ],
 "metadata": {
  "kernelspec": {
   "display_name": "Python 3 (ipykernel)",
   "language": "python",
   "name": "python3"
  },
  "language_info": {
   "codemirror_mode": {
    "name": "ipython",
    "version": 3
   },
   "file_extension": ".py",
   "mimetype": "text/x-python",
   "name": "python",
   "nbconvert_exporter": "python",
   "pygments_lexer": "ipython3",
   "version": "3.10.0"
  }
 },
 "nbformat": 4,
 "nbformat_minor": 5
}
